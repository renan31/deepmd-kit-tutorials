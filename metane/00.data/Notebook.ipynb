{
 "cells": [
  {
   "cell_type": "markdown",
   "id": "b196201a-6bc6-409a-b7a2-639dfbb53d40",
   "metadata": {},
   "source": [
    "### Preparing data from VASP"
   ]
  },
  {
   "cell_type": "code",
   "execution_count": 1,
   "id": "187a4b60-c7f8-4c94-990d-dad0d2a8446c",
   "metadata": {},
   "outputs": [],
   "source": [
    "import dpdata \n",
    "import numpy as np"
   ]
  },
  {
   "cell_type": "code",
   "execution_count": 8,
   "id": "17454900-3b3b-44a7-a5cb-16233cc058ee",
   "metadata": {},
   "outputs": [],
   "source": [
    "data = dpdata.LabeledSystem('OUTCAR', fmt = 'vasp/outcar') \n",
    "frames = int(len(data))"
   ]
  },
  {
   "cell_type": "code",
   "execution_count": 10,
   "id": "3d2de0c4-2fbe-4205-86ce-3878f090d49c",
   "metadata": {},
   "outputs": [],
   "source": [
    "# Spliting data into training and test sets (20% test, 80% training)\n",
    "\n",
    "index_test = np.random.choice(frames, size = int(0.2*frames), replace = False)\n",
    "index_training = list(set(range(200)) - set(index_test))\n",
    "\n",
    "data_test = data.sub_system(index_test)\n",
    "data_training = data.sub_system(index_training)\n",
    "\n",
    "data_test.to_deepmd_npy(\"test_data\")\n",
    "data_training.to_deepmd_npy(\"training_data\")"
   ]
  }
 ],
 "metadata": {
  "kernelspec": {
   "display_name": "Python 3 (ipykernel)",
   "language": "python",
   "name": "python3"
  },
  "language_info": {
   "codemirror_mode": {
    "name": "ipython",
    "version": 3
   },
   "file_extension": ".py",
   "mimetype": "text/x-python",
   "name": "python",
   "nbconvert_exporter": "python",
   "pygments_lexer": "ipython3",
   "version": "3.9.16"
  }
 },
 "nbformat": 4,
 "nbformat_minor": 5
}
